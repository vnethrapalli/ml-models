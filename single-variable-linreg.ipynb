{
 "cells": [
  {
   "cell_type": "code",
   "execution_count": 1,
   "metadata": {},
   "outputs": [],
   "source": [
    "import numpy as np\n",
    "import math\n",
    "import matplotlib.pyplot as plt"
   ]
  },
  {
   "cell_type": "markdown",
   "metadata": {},
   "source": [
    "## Implementation"
   ]
  },
  {
   "cell_type": "code",
   "execution_count": 68,
   "metadata": {},
   "outputs": [],
   "source": [
    "class LinearRegression:\n",
    "        def __init__(self, alpha=0.01, minimum_error_decrease=0.000001):\n",
    "            self.weights = None\n",
    "            self.intercept = None\n",
    "            self.num_rows = None\n",
    "            self.learning_rate = alpha\n",
    "            self.minimum_error_decrease = minimum_error_decrease\n",
    "            \n",
    "        # cost / error function\n",
    "        # sum of squared residuals, divided by twice the number of data points\n",
    "        def cost(self, X, y):\n",
    "            X2 = []\n",
    "            for row in range(len(X)):\n",
    "                new_row = X[row].copy()\n",
    "                new_row.insert(0, 1)\n",
    "                X2.append(new_row)\n",
    "            X2 = np.asarray(X2)\n",
    "            \n",
    "            residuals = np.dot(X2, self.weights) - y\n",
    "            value = 1 / (2 * len(X2)) * np.dot(residuals.T, residuals)\n",
    "            return value[0][0]\n",
    "        \n",
    "        def fit(self, X, y):\n",
    "            # append a column of ones to the X matrix, for the y-intercept term\n",
    "            X2 = []\n",
    "            for row in range(len(X)):\n",
    "                new_row = X[row].copy()\n",
    "                new_row.insert(0, 1)\n",
    "                X2.append(new_row)\n",
    "            X2 = np.asarray(X2)\n",
    "            y = np.asarray(y)\n",
    "            \n",
    "            \n",
    "            # initialize weights as 0\n",
    "            self.weights = np.asarray([[0] for i in range(len(X2[0]))])\n",
    "            \n",
    "            m = len(X)            \n",
    "            costs = []\n",
    "            \n",
    "            while True:\n",
    "                \n",
    "                residuals = np.dot(X2, self.weights) - y\n",
    " \n",
    "                # compute cost function\n",
    "                curr_cost = (1 / (2 * m) * np.dot(residuals.T, residuals))[0][0]\n",
    "                costs.append(curr_cost)\n",
    "                previous = curr_cost\n",
    "                \n",
    "                # gradient descent \n",
    "                self.weights = self.weights - (self.learning_rate / m) * np.dot(X2.T, residuals)\n",
    "            \n",
    "                # compute error of next iteration\n",
    "                curr_cost = self.cost(X, y)\n",
    "                diff = curr_cost - previous\n",
    "\n",
    "                # if the cost function decreases by less than a certain amount, terminate\n",
    "                if diff >= -self.minimum_error_decrease:\n",
    "                    break\n",
    "                    \n",
    "        def predict(self, X):\n",
    "            X2 = []\n",
    "            for row in range(len(X)):\n",
    "                new_row = X[row].copy()\n",
    "                new_row.insert(0, 1)\n",
    "                X2.append(new_row)\n",
    "            X2 = np.asarray(X2)\n",
    "            \n",
    "            return np.dot(X2, self.weights).flatten()\n"
   ]
  },
  {
   "cell_type": "markdown",
   "metadata": {},
   "source": [
    "## Testing"
   ]
  },
  {
   "cell_type": "code",
   "execution_count": 80,
   "metadata": {},
   "outputs": [
    {
     "data": {
      "text/plain": [
       "<matplotlib.legend.Legend at 0x1bf3c03d0d0>"
      ]
     },
     "execution_count": 80,
     "metadata": {},
     "output_type": "execute_result"
    },
    {
     "data": {
      "image/png": "[encoded data removed]",
      "text/plain": [
       "<Figure size 432x288 with 1 Axes>"
      ]
     },
     "metadata": {
      "needs_background": "light"
     },
     "output_type": "display_data"
    }
   ],
   "source": [
    "X = []\n",
    "y = []\n",
    "for i in range(10):\n",
    "    X.append([i])\n",
    "    y.append([2*i + 2 * np.random.normal()])\n",
    "\n",
    "\n",
    "linreg = LinearRegression()\n",
    "linreg.fit(X, y)\n",
    "score = linreg.cost(X, y)\n",
    "\n",
    "x_space = np.linspace(0, 10)\n",
    "predictions = linreg.predict(X)\n",
    "\n",
    "plt.scatter(np.asarray(X).flatten(), np.asarray(y).flatten(), label='points', alpha=0.5)\n",
    "\n",
    "values = [linreg.predict([[x]])[0] for x in x_space]\n",
    "plt.plot(x_space, values, label='model', color='orange', alpha=0.5)\n",
    "plt.title('data and line of best fit')\n",
    "plt.ylabel('y')\n",
    "plt.xlabel('x')\n",
    "plt.legend()"
   ]
  },
  {
   "cell_type": "code",
   "execution_count": null,
   "metadata": {},
   "outputs": [],
   "source": []
  }
 ],
 "metadata": {
  "kernelspec": {
   "display_name": "Python 3",
   "language": "python",
   "name": "python3"
  },
  "language_info": {
   "codemirror_mode": {
    "name": "ipython",
    "version": 3
   },
   "file_extension": ".py",
   "mimetype": "text/x-python",
   "name": "python",
   "nbconvert_exporter": "python",
   "pygments_lexer": "ipython3",
   "version": "3.8.3"
  }
 },
 "nbformat": 4,
 "nbformat_minor": 4
}
